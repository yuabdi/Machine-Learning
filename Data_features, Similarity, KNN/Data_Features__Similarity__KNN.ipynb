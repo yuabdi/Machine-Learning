{
  "cells": [
    {
      "cell_type": "code",
      "execution_count": null,
      "metadata": {
        "id": "GjVKk0gxUbpA"
      },
      "outputs": [],
      "source": [
        "import pandas as pd\n",
        "import matplotlib.pyplot as plt\n",
        "import tqdm\n",
        "import numpy as np"
      ]
    },
    {
      "cell_type": "code",
      "execution_count": null,
      "metadata": {
        "colab": {
          "base_uri": "https://localhost:8080/"
        },
        "id": "UBg1sguzWTNd",
        "outputId": "5de632de-ef57-4229-fb86-f39e6baeb23d"
      },
      "outputs": [
        {
          "name": "stdout",
          "output_type": "stream",
          "text": [
            "--2023-05-22 02:06:33--  https://lfs.aminer.cn/lab-datasets/citation/acm.v9.zip\n",
            "Resolving lfs.aminer.cn (lfs.aminer.cn)... 159.27.2.14\n",
            "Connecting to lfs.aminer.cn (lfs.aminer.cn)|159.27.2.14|:443... connected.\n",
            "HTTP request sent, awaiting response... 200 OK\n",
            "Length: 686542584 (655M) [application/zip]\n",
            "Saving to: ‘acm.v9.zip’\n",
            "\n",
            "acm.v9.zip          100%[===================>] 654.74M  29.5MB/s    in 24s     \n",
            "\n",
            "2023-05-22 02:06:57 (27.8 MB/s) - ‘acm.v9.zip’ saved [686542584/686542584]\n",
            "\n"
          ]
        }
      ],
      "source": [
        "! wget https://lfs.aminer.cn/lab-datasets/citation/acm.v9.zip"
      ]
    },
    {
      "cell_type": "code",
      "execution_count": null,
      "metadata": {
        "colab": {
          "base_uri": "https://localhost:8080/"
        },
        "id": "cyuYj-f1WjrU",
        "outputId": "d45b501f-830e-4306-b416-d58651ab9516"
      },
      "outputs": [
        {
          "name": "stdout",
          "output_type": "stream",
          "text": [
            "Archive:  acm.v9.zip\n",
            "  inflating: acm.txt                 \n"
          ]
        }
      ],
      "source": [
        "!unzip acm.v9.zip"
      ]
    },
    {
      "cell_type": "code",
      "execution_count": null,
      "metadata": {
        "colab": {
          "base_uri": "https://localhost:8080/"
        },
        "id": "ZbRT6_WuVgyR",
        "outputId": "59e42ff3-bd7d-456d-eca7-53020c5d3ab8"
      },
      "outputs": [
        {
          "name": "stderr",
          "output_type": "stream",
          "text": [
            "25494853it [00:34, 732698.34it/s]\n"
          ]
        }
      ],
      "source": [
        "#@title Default title text\n",
        "# Initialize variables\n",
        "data = []\n",
        "current_entry = {}\n",
        "unique_ref_ids = set()  \n",
        "\n",
        "# Open the file in read mode\n",
        "with open('acm.txt', \"r\") as file:\n",
        "    # Read the file line by line\n",
        "    for line in tqdm.tqdm(file):\n",
        "        line = line.strip()  # Remove leading/trailing whitespace\n",
        "\n",
        "        # Check if a new entry should start\n",
        "        if line == \"\":\n",
        "            if current_entry:\n",
        "                data.append(current_entry)\n",
        "            current_entry = {}\n",
        "            continue\n",
        "        # Extract the key and value from each line\n",
        "        key = line[:2]\n",
        "        value = line[2:]\n",
        "\n",
        "        # Store the key-value pair in the current entry dictionary\n",
        "        if key not in current_entry:\n",
        "          current_entry[key] = value\n",
        "        else:\n",
        "          current_entry[key] = current_entry[key] + \",\" + value\n",
        "        \n",
        "        if key == \"#%\":\n",
        "            unique_ref_ids.add(value)\n",
        "\n",
        "# Convert the set back to a list if needed\n",
        "unique_ref_ids = list(unique_ref_ids)\n",
        "                      \n",
        "# Append the last entry\n",
        "if current_entry:\n",
        "    data.append(current_entry)\n",
        "\n",
        "# Ensure all keys are present in each entry and set missing keys to \"missing\"\n",
        "keys = set().union(*(entry.keys() for entry in data))\n",
        "for entry in data:\n",
        "    for key in keys:\n",
        "        entry.setdefault(key, \"missing\")"
      ]
    },
    {
      "cell_type": "code",
      "execution_count": null,
      "metadata": {
        "id": "ts4EykTUXKED"
      },
      "outputs": [],
      "source": [
        "# Create a DataFrame from the extracted data\n",
        "df = pd.DataFrame(data)"
      ]
    },
    {
      "cell_type": "code",
      "execution_count": null,
      "metadata": {
        "colab": {
          "base_uri": "https://localhost:8080/"
        },
        "id": "H-nsptujXblb",
        "outputId": "7717649b-edba-45c0-ff40-e751c070f32c"
      },
      "outputs": [
        {
          "data": {
            "text/plain": [
              "#*    0\n",
              "#t    0\n",
              "#c    0\n",
              "#i    0\n",
              "#@    0\n",
              "#!    0\n",
              "#%    0\n",
              "dtype: int64"
            ]
          },
          "execution_count": 11,
          "metadata": {},
          "output_type": "execute_result"
        }
      ],
      "source": [
        "#Checking missing values in the dataset/columns\n",
        "df.isnull().sum(axis=0)"
      ]
    },
    {
      "cell_type": "code",
      "execution_count": null,
      "metadata": {
        "colab": {
          "base_uri": "https://localhost:8080/",
          "height": 248
        },
        "id": "e8TZtrftZMiF",
        "outputId": "dc2419a1-c6fe-41d9-ef28-eb4050344da1"
      },
      "outputs": [
        {
          "data": {
            "text/html": [
              "\n",
              "  <div id=\"df-ffb45969-c34a-45f0-bc59-609abe14c40c\">\n",
              "    <div class=\"colab-df-container\">\n",
              "      <div>\n",
              "<style scoped>\n",
              "    .dataframe tbody tr th:only-of-type {\n",
              "        vertical-align: middle;\n",
              "    }\n",
              "\n",
              "    .dataframe tbody tr th {\n",
              "        vertical-align: top;\n",
              "    }\n",
              "\n",
              "    .dataframe thead th {\n",
              "        text-align: right;\n",
              "    }\n",
              "</style>\n",
              "<table border=\"1\" class=\"dataframe\">\n",
              "  <thead>\n",
              "    <tr style=\"text-align: right;\">\n",
              "      <th></th>\n",
              "      <th>#*</th>\n",
              "      <th>#t</th>\n",
              "      <th>#c</th>\n",
              "      <th>#i</th>\n",
              "      <th>#@</th>\n",
              "      <th>#!</th>\n",
              "      <th>#%</th>\n",
              "    </tr>\n",
              "  </thead>\n",
              "  <tbody>\n",
              "    <tr>\n",
              "      <th>0</th>\n",
              "      <td>MOSFET table look-up models for circuit simula...</td>\n",
              "      <td>1984</td>\n",
              "      <td>Integration, the VLSI Journal</td>\n",
              "      <td>ndex1</td>\n",
              "      <td>missing</td>\n",
              "      <td>missing</td>\n",
              "      <td>missing</td>\n",
              "    </tr>\n",
              "    <tr>\n",
              "      <th>1</th>\n",
              "      <td>The verification of the protection mechanisms ...</td>\n",
              "      <td>1984</td>\n",
              "      <td>International Journal of Parallel Programming</td>\n",
              "      <td>ndex2</td>\n",
              "      <td>Virgil D. Gligor</td>\n",
              "      <td>missing</td>\n",
              "      <td>missing</td>\n",
              "    </tr>\n",
              "    <tr>\n",
              "      <th>2</th>\n",
              "      <td>Another view of functional and multivalued dep...</td>\n",
              "      <td>1984</td>\n",
              "      <td>International Journal of Parallel Programming</td>\n",
              "      <td>ndex3</td>\n",
              "      <td>M. Gyssens, J. Paredaens</td>\n",
              "      <td>missing</td>\n",
              "      <td>missing</td>\n",
              "    </tr>\n",
              "    <tr>\n",
              "      <th>3</th>\n",
              "      <td>Entity-relationship diagrams which are in BCNF</td>\n",
              "      <td>1984</td>\n",
              "      <td>International Journal of Parallel Programming</td>\n",
              "      <td>ndex4</td>\n",
              "      <td>Sushil Jajodia, Peter A. Ng, Frederick N. Spri...</td>\n",
              "      <td>missing</td>\n",
              "      <td>missing</td>\n",
              "    </tr>\n",
              "    <tr>\n",
              "      <th>4</th>\n",
              "      <td>The computer comes of age</td>\n",
              "      <td>1984</td>\n",
              "      <td>The computer comes of age</td>\n",
              "      <td>ndex5</td>\n",
              "      <td>Rene Moreau</td>\n",
              "      <td>missing</td>\n",
              "      <td>missing</td>\n",
              "    </tr>\n",
              "  </tbody>\n",
              "</table>\n",
              "</div>\n",
              "      <button class=\"colab-df-convert\" onclick=\"convertToInteractive('df-ffb45969-c34a-45f0-bc59-609abe14c40c')\"\n",
              "              title=\"Convert this dataframe to an interactive table.\"\n",
              "              style=\"display:none;\">\n",
              "        \n",
              "  <svg xmlns=\"http://www.w3.org/2000/svg\" height=\"24px\"viewBox=\"0 0 24 24\"\n",
              "       width=\"24px\">\n",
              "    <path d=\"M0 0h24v24H0V0z\" fill=\"none\"/>\n",
              "    <path d=\"M18.56 5.44l.94 2.06.94-2.06 2.06-.94-2.06-.94-.94-2.06-.94 2.06-2.06.94zm-11 1L8.5 8.5l.94-2.06 2.06-.94-2.06-.94L8.5 2.5l-.94 2.06-2.06.94zm10 10l.94 2.06.94-2.06 2.06-.94-2.06-.94-.94-2.06-.94 2.06-2.06.94z\"/><path d=\"M17.41 7.96l-1.37-1.37c-.4-.4-.92-.59-1.43-.59-.52 0-1.04.2-1.43.59L10.3 9.45l-7.72 7.72c-.78.78-.78 2.05 0 2.83L4 21.41c.39.39.9.59 1.41.59.51 0 1.02-.2 1.41-.59l7.78-7.78 2.81-2.81c.8-.78.8-2.07 0-2.86zM5.41 20L4 18.59l7.72-7.72 1.47 1.35L5.41 20z\"/>\n",
              "  </svg>\n",
              "      </button>\n",
              "      \n",
              "  <style>\n",
              "    .colab-df-container {\n",
              "      display:flex;\n",
              "      flex-wrap:wrap;\n",
              "      gap: 12px;\n",
              "    }\n",
              "\n",
              "    .colab-df-convert {\n",
              "      background-color: #E8F0FE;\n",
              "      border: none;\n",
              "      border-radius: 50%;\n",
              "      cursor: pointer;\n",
              "      display: none;\n",
              "      fill: #1967D2;\n",
              "      height: 32px;\n",
              "      padding: 0 0 0 0;\n",
              "      width: 32px;\n",
              "    }\n",
              "\n",
              "    .colab-df-convert:hover {\n",
              "      background-color: #E2EBFA;\n",
              "      box-shadow: 0px 1px 2px rgba(60, 64, 67, 0.3), 0px 1px 3px 1px rgba(60, 64, 67, 0.15);\n",
              "      fill: #174EA6;\n",
              "    }\n",
              "\n",
              "    [theme=dark] .colab-df-convert {\n",
              "      background-color: #3B4455;\n",
              "      fill: #D2E3FC;\n",
              "    }\n",
              "\n",
              "    [theme=dark] .colab-df-convert:hover {\n",
              "      background-color: #434B5C;\n",
              "      box-shadow: 0px 1px 3px 1px rgba(0, 0, 0, 0.15);\n",
              "      filter: drop-shadow(0px 1px 2px rgba(0, 0, 0, 0.3));\n",
              "      fill: #FFFFFF;\n",
              "    }\n",
              "  </style>\n",
              "\n",
              "      <script>\n",
              "        const buttonEl =\n",
              "          document.querySelector('#df-ffb45969-c34a-45f0-bc59-609abe14c40c button.colab-df-convert');\n",
              "        buttonEl.style.display =\n",
              "          google.colab.kernel.accessAllowed ? 'block' : 'none';\n",
              "\n",
              "        async function convertToInteractive(key) {\n",
              "          const element = document.querySelector('#df-ffb45969-c34a-45f0-bc59-609abe14c40c');\n",
              "          const dataTable =\n",
              "            await google.colab.kernel.invokeFunction('convertToInteractive',\n",
              "                                                     [key], {});\n",
              "          if (!dataTable) return;\n",
              "\n",
              "          const docLinkHtml = 'Like what you see? Visit the ' +\n",
              "            '<a target=\"_blank\" href=https://colab.research.google.com/notebooks/data_table.ipynb>data table notebook</a>'\n",
              "            + ' to learn more about interactive tables.';\n",
              "          element.innerHTML = '';\n",
              "          dataTable['output_type'] = 'display_data';\n",
              "          await google.colab.output.renderOutput(dataTable, element);\n",
              "          const docLink = document.createElement('div');\n",
              "          docLink.innerHTML = docLinkHtml;\n",
              "          element.appendChild(docLink);\n",
              "        }\n",
              "      </script>\n",
              "    </div>\n",
              "  </div>\n",
              "  "
            ],
            "text/plain": [
              "                                                  #*    #t  \\\n",
              "0  MOSFET table look-up models for circuit simula...  1984   \n",
              "1  The verification of the protection mechanisms ...  1984   \n",
              "2  Another view of functional and multivalued dep...  1984   \n",
              "3     Entity-relationship diagrams which are in BCNF  1984   \n",
              "4                          The computer comes of age  1984   \n",
              "\n",
              "                                              #c     #i  \\\n",
              "0                  Integration, the VLSI Journal  ndex1   \n",
              "1  International Journal of Parallel Programming  ndex2   \n",
              "2  International Journal of Parallel Programming  ndex3   \n",
              "3  International Journal of Parallel Programming  ndex4   \n",
              "4                      The computer comes of age  ndex5   \n",
              "\n",
              "                                                  #@       #!       #%  \n",
              "0                                            missing  missing  missing  \n",
              "1                                   Virgil D. Gligor  missing  missing  \n",
              "2                           M. Gyssens, J. Paredaens  missing  missing  \n",
              "3  Sushil Jajodia, Peter A. Ng, Frederick N. Spri...  missing  missing  \n",
              "4                                        Rene Moreau  missing  missing  "
            ]
          },
          "execution_count": 12,
          "metadata": {},
          "output_type": "execute_result"
        }
      ],
      "source": [
        "df.head()"
      ]
    },
    {
      "cell_type": "code",
      "execution_count": null,
      "metadata": {
        "colab": {
          "base_uri": "https://localhost:8080/"
        },
        "id": "TZ0bDKQtYkE0",
        "outputId": "c1840abb-6e94-46c7-fb3e-9f0e712ac7ed"
      },
      "outputs": [
        {
          "data": {
            "text/plain": [
              "Index(['#*', '#t', '#c', '#i', '#@', '#!', '#%'], dtype='object')"
            ]
          },
          "execution_count": 13,
          "metadata": {},
          "output_type": "execute_result"
        }
      ],
      "source": [
        "#View the column\n",
        "df.columns"
      ]
    },
    {
      "cell_type": "code",
      "execution_count": null,
      "metadata": {
        "colab": {
          "base_uri": "https://localhost:8080/",
          "height": 52
        },
        "id": "ciA0Nw3FY_E-",
        "outputId": "2548927b-10d0-445a-c65d-7906325e21b2"
      },
      "outputs": [
        {
          "data": {
            "application/vnd.google.colaboratory.intrinsic+json": {
              "type": "string"
            },
            "text/plain": [
              "'\\n#* --- paperTitle\\n#@ --- Authors\\n#t ---- Year\\n#c  --- publication venue\\n#index 00---- index id of this paper\\n#% ---- the id of references of this paper (there are multiple lines, with each indicating a reference)\\n#! --- Abstract\\n'"
            ]
          },
          "execution_count": 14,
          "metadata": {},
          "output_type": "execute_result"
        }
      ],
      "source": [
        "# What we have currently in columns titele\n",
        "\"\"\"\n",
        "#* --- paperTitle\n",
        "#@ --- Authors\n",
        "#t ---- Year\n",
        "#c  --- publication venue\n",
        "#index 00---- index id of this paper\n",
        "#% ---- the id of references of this paper (there are multiple lines, with each indicating a reference)\n",
        "#! --- Abstract\n",
        "\"\"\""
      ]
    },
    {
      "cell_type": "code",
      "execution_count": null,
      "metadata": {
        "id": "Af0SQlX-ZDEo"
      },
      "outputs": [],
      "source": [
        "#Renaming\n",
        "column_names = ['title', 'year', 'publicationvenue', 'index', 'authors', 'abstract',  'references_id']\n",
        "\n",
        "df.rename(columns={'#*':'title', '#t':'year', '#c':'publicationvenue', '#i':'index', '#@':'authors', '#!':'abstract',  '#%':'references_id'}, inplace=True)\n"
      ]
    },
    {
      "cell_type": "code",
      "execution_count": null,
      "metadata": {
        "colab": {
          "base_uri": "https://localhost:8080/",
          "height": 316
        },
        "id": "fKaUlSH0ZrnT",
        "outputId": "d8c39ed5-e2fd-45cf-d94b-cef24a94f660"
      },
      "outputs": [
        {
          "data": {
            "text/html": [
              "\n",
              "  <div id=\"df-6c29b1e5-940d-4a04-a48d-0c1227583065\">\n",
              "    <div class=\"colab-df-container\">\n",
              "      <div>\n",
              "<style scoped>\n",
              "    .dataframe tbody tr th:only-of-type {\n",
              "        vertical-align: middle;\n",
              "    }\n",
              "\n",
              "    .dataframe tbody tr th {\n",
              "        vertical-align: top;\n",
              "    }\n",
              "\n",
              "    .dataframe thead th {\n",
              "        text-align: right;\n",
              "    }\n",
              "</style>\n",
              "<table border=\"1\" class=\"dataframe\">\n",
              "  <thead>\n",
              "    <tr style=\"text-align: right;\">\n",
              "      <th></th>\n",
              "      <th>title</th>\n",
              "      <th>year</th>\n",
              "      <th>publicationvenue</th>\n",
              "      <th>index</th>\n",
              "      <th>authors</th>\n",
              "      <th>abstract</th>\n",
              "      <th>references_id</th>\n",
              "    </tr>\n",
              "  </thead>\n",
              "  <tbody>\n",
              "    <tr>\n",
              "      <th>0</th>\n",
              "      <td>MOSFET table look-up models for circuit simula...</td>\n",
              "      <td>1984</td>\n",
              "      <td>Integration, the VLSI Journal</td>\n",
              "      <td>ndex1</td>\n",
              "      <td>missing</td>\n",
              "      <td>missing</td>\n",
              "      <td>missing</td>\n",
              "    </tr>\n",
              "    <tr>\n",
              "      <th>1</th>\n",
              "      <td>The verification of the protection mechanisms ...</td>\n",
              "      <td>1984</td>\n",
              "      <td>International Journal of Parallel Programming</td>\n",
              "      <td>ndex2</td>\n",
              "      <td>Virgil D. Gligor</td>\n",
              "      <td>missing</td>\n",
              "      <td>missing</td>\n",
              "    </tr>\n",
              "    <tr>\n",
              "      <th>2</th>\n",
              "      <td>Another view of functional and multivalued dep...</td>\n",
              "      <td>1984</td>\n",
              "      <td>International Journal of Parallel Programming</td>\n",
              "      <td>ndex3</td>\n",
              "      <td>M. Gyssens, J. Paredaens</td>\n",
              "      <td>missing</td>\n",
              "      <td>missing</td>\n",
              "    </tr>\n",
              "    <tr>\n",
              "      <th>3</th>\n",
              "      <td>Entity-relationship diagrams which are in BCNF</td>\n",
              "      <td>1984</td>\n",
              "      <td>International Journal of Parallel Programming</td>\n",
              "      <td>ndex4</td>\n",
              "      <td>Sushil Jajodia, Peter A. Ng, Frederick N. Spri...</td>\n",
              "      <td>missing</td>\n",
              "      <td>missing</td>\n",
              "    </tr>\n",
              "    <tr>\n",
              "      <th>4</th>\n",
              "      <td>The computer comes of age</td>\n",
              "      <td>1984</td>\n",
              "      <td>The computer comes of age</td>\n",
              "      <td>ndex5</td>\n",
              "      <td>Rene Moreau</td>\n",
              "      <td>missing</td>\n",
              "      <td>missing</td>\n",
              "    </tr>\n",
              "  </tbody>\n",
              "</table>\n",
              "</div>\n",
              "      <button class=\"colab-df-convert\" onclick=\"convertToInteractive('df-6c29b1e5-940d-4a04-a48d-0c1227583065')\"\n",
              "              title=\"Convert this dataframe to an interactive table.\"\n",
              "              style=\"display:none;\">\n",
              "        \n",
              "  <svg xmlns=\"http://www.w3.org/2000/svg\" height=\"24px\"viewBox=\"0 0 24 24\"\n",
              "       width=\"24px\">\n",
              "    <path d=\"M0 0h24v24H0V0z\" fill=\"none\"/>\n",
              "    <path d=\"M18.56 5.44l.94 2.06.94-2.06 2.06-.94-2.06-.94-.94-2.06-.94 2.06-2.06.94zm-11 1L8.5 8.5l.94-2.06 2.06-.94-2.06-.94L8.5 2.5l-.94 2.06-2.06.94zm10 10l.94 2.06.94-2.06 2.06-.94-2.06-.94-.94-2.06-.94 2.06-2.06.94z\"/><path d=\"M17.41 7.96l-1.37-1.37c-.4-.4-.92-.59-1.43-.59-.52 0-1.04.2-1.43.59L10.3 9.45l-7.72 7.72c-.78.78-.78 2.05 0 2.83L4 21.41c.39.39.9.59 1.41.59.51 0 1.02-.2 1.41-.59l7.78-7.78 2.81-2.81c.8-.78.8-2.07 0-2.86zM5.41 20L4 18.59l7.72-7.72 1.47 1.35L5.41 20z\"/>\n",
              "  </svg>\n",
              "      </button>\n",
              "      \n",
              "  <style>\n",
              "    .colab-df-container {\n",
              "      display:flex;\n",
              "      flex-wrap:wrap;\n",
              "      gap: 12px;\n",
              "    }\n",
              "\n",
              "    .colab-df-convert {\n",
              "      background-color: #E8F0FE;\n",
              "      border: none;\n",
              "      border-radius: 50%;\n",
              "      cursor: pointer;\n",
              "      display: none;\n",
              "      fill: #1967D2;\n",
              "      height: 32px;\n",
              "      padding: 0 0 0 0;\n",
              "      width: 32px;\n",
              "    }\n",
              "\n",
              "    .colab-df-convert:hover {\n",
              "      background-color: #E2EBFA;\n",
              "      box-shadow: 0px 1px 2px rgba(60, 64, 67, 0.3), 0px 1px 3px 1px rgba(60, 64, 67, 0.15);\n",
              "      fill: #174EA6;\n",
              "    }\n",
              "\n",
              "    [theme=dark] .colab-df-convert {\n",
              "      background-color: #3B4455;\n",
              "      fill: #D2E3FC;\n",
              "    }\n",
              "\n",
              "    [theme=dark] .colab-df-convert:hover {\n",
              "      background-color: #434B5C;\n",
              "      box-shadow: 0px 1px 3px 1px rgba(0, 0, 0, 0.15);\n",
              "      filter: drop-shadow(0px 1px 2px rgba(0, 0, 0, 0.3));\n",
              "      fill: #FFFFFF;\n",
              "    }\n",
              "  </style>\n",
              "\n",
              "      <script>\n",
              "        const buttonEl =\n",
              "          document.querySelector('#df-6c29b1e5-940d-4a04-a48d-0c1227583065 button.colab-df-convert');\n",
              "        buttonEl.style.display =\n",
              "          google.colab.kernel.accessAllowed ? 'block' : 'none';\n",
              "\n",
              "        async function convertToInteractive(key) {\n",
              "          const element = document.querySelector('#df-6c29b1e5-940d-4a04-a48d-0c1227583065');\n",
              "          const dataTable =\n",
              "            await google.colab.kernel.invokeFunction('convertToInteractive',\n",
              "                                                     [key], {});\n",
              "          if (!dataTable) return;\n",
              "\n",
              "          const docLinkHtml = 'Like what you see? Visit the ' +\n",
              "            '<a target=\"_blank\" href=https://colab.research.google.com/notebooks/data_table.ipynb>data table notebook</a>'\n",
              "            + ' to learn more about interactive tables.';\n",
              "          element.innerHTML = '';\n",
              "          dataTable['output_type'] = 'display_data';\n",
              "          await google.colab.output.renderOutput(dataTable, element);\n",
              "          const docLink = document.createElement('div');\n",
              "          docLink.innerHTML = docLinkHtml;\n",
              "          element.appendChild(docLink);\n",
              "        }\n",
              "      </script>\n",
              "    </div>\n",
              "  </div>\n",
              "  "
            ],
            "text/plain": [
              "                                               title  year  \\\n",
              "0  MOSFET table look-up models for circuit simula...  1984   \n",
              "1  The verification of the protection mechanisms ...  1984   \n",
              "2  Another view of functional and multivalued dep...  1984   \n",
              "3     Entity-relationship diagrams which are in BCNF  1984   \n",
              "4                          The computer comes of age  1984   \n",
              "\n",
              "                                publicationvenue  index  \\\n",
              "0                  Integration, the VLSI Journal  ndex1   \n",
              "1  International Journal of Parallel Programming  ndex2   \n",
              "2  International Journal of Parallel Programming  ndex3   \n",
              "3  International Journal of Parallel Programming  ndex4   \n",
              "4                      The computer comes of age  ndex5   \n",
              "\n",
              "                                             authors abstract references_id  \n",
              "0                                            missing  missing       missing  \n",
              "1                                   Virgil D. Gligor  missing       missing  \n",
              "2                           M. Gyssens, J. Paredaens  missing       missing  \n",
              "3  Sushil Jajodia, Peter A. Ng, Frederick N. Spri...  missing       missing  \n",
              "4                                        Rene Moreau  missing       missing  "
            ]
          },
          "execution_count": 16,
          "metadata": {},
          "output_type": "execute_result"
        }
      ],
      "source": [
        "# Display the change\n",
        "df.head()"
      ]
    },
    {
      "cell_type": "code",
      "execution_count": null,
      "metadata": {
        "colab": {
          "base_uri": "https://localhost:8080/"
        },
        "id": "P5bXJ70CaGHp",
        "outputId": "37aabd7f-a889-4c51-bd46-392975cd27e9"
      },
      "outputs": [
        {
          "name": "stdout",
          "output_type": "stream",
          "text": [
            "No. of distinct authors  1670781\n",
            "No. of distinct venues  273329\n",
            "No. of distinct publications  2183551\n",
            "No. of distinct references  1007495\n"
          ]
        }
      ],
      "source": [
        "\"A. Compute the number of distinct authors, publication venues, publications, and citations/references\"\n",
        "\n",
        "print(\"No. of distinct authors \", len(df['authors'].unique()) - 1)\n",
        "print(\"No. of distinct venues \", len(df['publicationvenue'].unique()) - 1)\n",
        "print(\"No. of distinct publications \", len(df['title'].unique()) - 1)\n",
        "print(\"No. of distinct references \", len(unique_ref_ids))\n"
      ]
    },
    {
      "cell_type": "code",
      "execution_count": null,
      "metadata": {
        "id": "WZd3QolvcG3l"
      },
      "outputs": [],
      "source": []
    },
    {
      "cell_type": "code",
      "execution_count": null,
      "metadata": {
        "colab": {
          "base_uri": "https://localhost:8080/"
        },
        "id": "NEG1BEfpaNiA",
        "outputId": "8ee148a7-6db7-4c91-ec11-04706e153741"
      },
      "outputs": [
        {
          "name": "stdout",
          "output_type": "stream",
          "text": [
            "                                                     title  year  \\\n",
            "799732   Proceedings of the 8th European Conference on ...  2004   \n",
            "921702   Knowledge Discovery in Databases: PKDD 2006: 1...  2006   \n",
            "936468   Knowledge Discovery in Databases: PKDD 2005: 9...  2005   \n",
            "1100120  Proceedings of the 11th European conference on...  2007   \n",
            "1673545  Proceedings of the 9th European conference on ...  2005   \n",
            "\n",
            "                                          publicationvenue        index  \\\n",
            "799732   PKDD '04 Proceedings of the 8th European Confe...   ndex799733   \n",
            "921702   Knowledge Discovery in Databases: PKDD 2006: 1...   ndex921703   \n",
            "936468   Knowledge Discovery in Databases: PKDD 2005: 9...   ndex936469   \n",
            "1100120  PKDD 2007 Proceedings of the 11th European con...  ndex1100121   \n",
            "1673545  PKDD'05 Proceedings of the 9th European confer...  ndex1673546   \n",
            "\n",
            "                                                   authors abstract  \\\n",
            "799732   Jean-François Boulicaut, Floriana Esposito, Fo...  missing   \n",
            "921702   Johannes Fürnkranz, Tobias Scheffer, Myra Spil...  missing   \n",
            "936468   Alípio Jorge, Luís Torgo, Pavel Brazdil, Rui C...  missing   \n",
            "1100120  Joost N. Kok, Jacek Koronacki, Ramon Lopez De ...  missing   \n",
            "1673545  Alípio Mário Jorge, Luís Torgo, Pavel Brazdil,...  missing   \n",
            "\n",
            "        references_id  \n",
            "799732        missing  \n",
            "921702        missing  \n",
            "936468        missing  \n",
            "1100120       missing  \n",
            "1673545       missing  \n"
          ]
        }
      ],
      "source": [
        "\"B. Are these numbers likely to be accurate? As an example look up all the publications venue names associated with the conference “Principles and Practice of Knowledge Discovery in Databases” – what do you notice?\"\n",
        "conference_name = \"Principles and Practice of Knowledge Discovery in Databases\"\n",
        "data = df[df[\"title\"].str.contains(conference_name, case=False)]\n",
        "\n",
        "print(data)\n",
        "\n",
        "#data.head()"
      ]
    },
    {
      "cell_type": "markdown",
      "metadata": {
        "id": "wZ0pmgp3hues"
      },
      "source": [
        "we can see the the count of distinct venues and title is not very accurate as even if the case is different the venue is counted as a different venue. Same would be true for authors and publications\n",
        "\n",
        "Looking to venue names we observe some contains locations of countries/continent, dates (year), and conferences, stream lecture is on. All the venue doesn’t have the same description. The display shows there are a lot more bloated than the actual number of venues. Still doesn’t show a currant number or count. \n",
        "\n"
      ]
    },
    {
      "cell_type": "code",
      "execution_count": null,
      "metadata": {
        "colab": {
          "base_uri": "https://localhost:8080/",
          "height": 333
        },
        "id": "nvv5WqRwgIgA",
        "outputId": "8c747dab-2342-4d30-8adb-343266c486cb"
      },
      "outputs": [
        {
          "data": {
            "text/html": [
              "\n",
              "  <div id=\"df-fe33db17-66c0-40a1-8995-4232ddf4fb21\">\n",
              "    <div class=\"colab-df-container\">\n",
              "      <div>\n",
              "<style scoped>\n",
              "    .dataframe tbody tr th:only-of-type {\n",
              "        vertical-align: middle;\n",
              "    }\n",
              "\n",
              "    .dataframe tbody tr th {\n",
              "        vertical-align: top;\n",
              "    }\n",
              "\n",
              "    .dataframe thead th {\n",
              "        text-align: right;\n",
              "    }\n",
              "</style>\n",
              "<table border=\"1\" class=\"dataframe\">\n",
              "  <thead>\n",
              "    <tr style=\"text-align: right;\">\n",
              "      <th></th>\n",
              "      <th>title</th>\n",
              "      <th>year</th>\n",
              "      <th>publicationvenue</th>\n",
              "      <th>index</th>\n",
              "      <th>authors</th>\n",
              "      <th>abstract</th>\n",
              "      <th>references_id</th>\n",
              "    </tr>\n",
              "  </thead>\n",
              "  <tbody>\n",
              "    <tr>\n",
              "      <th>799732</th>\n",
              "      <td>Proceedings of the 8th European Conference on ...</td>\n",
              "      <td>2004</td>\n",
              "      <td>PKDD '04 Proceedings of the 8th European Confe...</td>\n",
              "      <td>ndex799733</td>\n",
              "      <td>Jean-François Boulicaut, Floriana Esposito, Fo...</td>\n",
              "      <td>missing</td>\n",
              "      <td>missing</td>\n",
              "    </tr>\n",
              "    <tr>\n",
              "      <th>921702</th>\n",
              "      <td>Knowledge Discovery in Databases: PKDD 2006: 1...</td>\n",
              "      <td>2006</td>\n",
              "      <td>Knowledge Discovery in Databases: PKDD 2006: 1...</td>\n",
              "      <td>ndex921703</td>\n",
              "      <td>Johannes Fürnkranz, Tobias Scheffer, Myra Spil...</td>\n",
              "      <td>missing</td>\n",
              "      <td>missing</td>\n",
              "    </tr>\n",
              "    <tr>\n",
              "      <th>936468</th>\n",
              "      <td>Knowledge Discovery in Databases: PKDD 2005: 9...</td>\n",
              "      <td>2005</td>\n",
              "      <td>Knowledge Discovery in Databases: PKDD 2005: 9...</td>\n",
              "      <td>ndex936469</td>\n",
              "      <td>Alípio Jorge, Luís Torgo, Pavel Brazdil, Rui C...</td>\n",
              "      <td>missing</td>\n",
              "      <td>missing</td>\n",
              "    </tr>\n",
              "    <tr>\n",
              "      <th>1100120</th>\n",
              "      <td>Proceedings of the 11th European conference on...</td>\n",
              "      <td>2007</td>\n",
              "      <td>PKDD 2007 Proceedings of the 11th European con...</td>\n",
              "      <td>ndex1100121</td>\n",
              "      <td>Joost N. Kok, Jacek Koronacki, Ramon Lopez De ...</td>\n",
              "      <td>missing</td>\n",
              "      <td>missing</td>\n",
              "    </tr>\n",
              "    <tr>\n",
              "      <th>1673545</th>\n",
              "      <td>Proceedings of the 9th European conference on ...</td>\n",
              "      <td>2005</td>\n",
              "      <td>PKDD'05 Proceedings of the 9th European confer...</td>\n",
              "      <td>ndex1673546</td>\n",
              "      <td>Alípio Mário Jorge, Luís Torgo, Pavel Brazdil,...</td>\n",
              "      <td>missing</td>\n",
              "      <td>missing</td>\n",
              "    </tr>\n",
              "  </tbody>\n",
              "</table>\n",
              "</div>\n",
              "      <button class=\"colab-df-convert\" onclick=\"convertToInteractive('df-fe33db17-66c0-40a1-8995-4232ddf4fb21')\"\n",
              "              title=\"Convert this dataframe to an interactive table.\"\n",
              "              style=\"display:none;\">\n",
              "        \n",
              "  <svg xmlns=\"http://www.w3.org/2000/svg\" height=\"24px\"viewBox=\"0 0 24 24\"\n",
              "       width=\"24px\">\n",
              "    <path d=\"M0 0h24v24H0V0z\" fill=\"none\"/>\n",
              "    <path d=\"M18.56 5.44l.94 2.06.94-2.06 2.06-.94-2.06-.94-.94-2.06-.94 2.06-2.06.94zm-11 1L8.5 8.5l.94-2.06 2.06-.94-2.06-.94L8.5 2.5l-.94 2.06-2.06.94zm10 10l.94 2.06.94-2.06 2.06-.94-2.06-.94-.94-2.06-.94 2.06-2.06.94z\"/><path d=\"M17.41 7.96l-1.37-1.37c-.4-.4-.92-.59-1.43-.59-.52 0-1.04.2-1.43.59L10.3 9.45l-7.72 7.72c-.78.78-.78 2.05 0 2.83L4 21.41c.39.39.9.59 1.41.59.51 0 1.02-.2 1.41-.59l7.78-7.78 2.81-2.81c.8-.78.8-2.07 0-2.86zM5.41 20L4 18.59l7.72-7.72 1.47 1.35L5.41 20z\"/>\n",
              "  </svg>\n",
              "      </button>\n",
              "      \n",
              "  <style>\n",
              "    .colab-df-container {\n",
              "      display:flex;\n",
              "      flex-wrap:wrap;\n",
              "      gap: 12px;\n",
              "    }\n",
              "\n",
              "    .colab-df-convert {\n",
              "      background-color: #E8F0FE;\n",
              "      border: none;\n",
              "      border-radius: 50%;\n",
              "      cursor: pointer;\n",
              "      display: none;\n",
              "      fill: #1967D2;\n",
              "      height: 32px;\n",
              "      padding: 0 0 0 0;\n",
              "      width: 32px;\n",
              "    }\n",
              "\n",
              "    .colab-df-convert:hover {\n",
              "      background-color: #E2EBFA;\n",
              "      box-shadow: 0px 1px 2px rgba(60, 64, 67, 0.3), 0px 1px 3px 1px rgba(60, 64, 67, 0.15);\n",
              "      fill: #174EA6;\n",
              "    }\n",
              "\n",
              "    [theme=dark] .colab-df-convert {\n",
              "      background-color: #3B4455;\n",
              "      fill: #D2E3FC;\n",
              "    }\n",
              "\n",
              "    [theme=dark] .colab-df-convert:hover {\n",
              "      background-color: #434B5C;\n",
              "      box-shadow: 0px 1px 3px 1px rgba(0, 0, 0, 0.15);\n",
              "      filter: drop-shadow(0px 1px 2px rgba(0, 0, 0, 0.3));\n",
              "      fill: #FFFFFF;\n",
              "    }\n",
              "  </style>\n",
              "\n",
              "      <script>\n",
              "        const buttonEl =\n",
              "          document.querySelector('#df-fe33db17-66c0-40a1-8995-4232ddf4fb21 button.colab-df-convert');\n",
              "        buttonEl.style.display =\n",
              "          google.colab.kernel.accessAllowed ? 'block' : 'none';\n",
              "\n",
              "        async function convertToInteractive(key) {\n",
              "          const element = document.querySelector('#df-fe33db17-66c0-40a1-8995-4232ddf4fb21');\n",
              "          const dataTable =\n",
              "            await google.colab.kernel.invokeFunction('convertToInteractive',\n",
              "                                                     [key], {});\n",
              "          if (!dataTable) return;\n",
              "\n",
              "          const docLinkHtml = 'Like what you see? Visit the ' +\n",
              "            '<a target=\"_blank\" href=https://colab.research.google.com/notebooks/data_table.ipynb>data table notebook</a>'\n",
              "            + ' to learn more about interactive tables.';\n",
              "          element.innerHTML = '';\n",
              "          dataTable['output_type'] = 'display_data';\n",
              "          await google.colab.output.renderOutput(dataTable, element);\n",
              "          const docLink = document.createElement('div');\n",
              "          docLink.innerHTML = docLinkHtml;\n",
              "          element.appendChild(docLink);\n",
              "        }\n",
              "      </script>\n",
              "    </div>\n",
              "  </div>\n",
              "  "
            ],
            "text/plain": [
              "                                                     title  year  \\\n",
              "799732   Proceedings of the 8th European Conference on ...  2004   \n",
              "921702   Knowledge Discovery in Databases: PKDD 2006: 1...  2006   \n",
              "936468   Knowledge Discovery in Databases: PKDD 2005: 9...  2005   \n",
              "1100120  Proceedings of the 11th European conference on...  2007   \n",
              "1673545  Proceedings of the 9th European conference on ...  2005   \n",
              "\n",
              "                                          publicationvenue        index  \\\n",
              "799732   PKDD '04 Proceedings of the 8th European Confe...   ndex799733   \n",
              "921702   Knowledge Discovery in Databases: PKDD 2006: 1...   ndex921703   \n",
              "936468   Knowledge Discovery in Databases: PKDD 2005: 9...   ndex936469   \n",
              "1100120  PKDD 2007 Proceedings of the 11th European con...  ndex1100121   \n",
              "1673545  PKDD'05 Proceedings of the 9th European confer...  ndex1673546   \n",
              "\n",
              "                                                   authors abstract  \\\n",
              "799732   Jean-François Boulicaut, Floriana Esposito, Fo...  missing   \n",
              "921702   Johannes Fürnkranz, Tobias Scheffer, Myra Spil...  missing   \n",
              "936468   Alípio Jorge, Luís Torgo, Pavel Brazdil, Rui C...  missing   \n",
              "1100120  Joost N. Kok, Jacek Koronacki, Ramon Lopez De ...  missing   \n",
              "1673545  Alípio Mário Jorge, Luís Torgo, Pavel Brazdil,...  missing   \n",
              "\n",
              "        references_id  \n",
              "799732        missing  \n",
              "921702        missing  \n",
              "936468        missing  \n",
              "1100120       missing  \n",
              "1673545       missing  "
            ]
          },
          "execution_count": 19,
          "metadata": {},
          "output_type": "execute_result"
        }
      ],
      "source": [
        "data.head()"
      ]
    },
    {
      "cell_type": "code",
      "execution_count": null,
      "metadata": {
        "colab": {
          "base_uri": "https://localhost:8080/",
          "height": 472
        },
        "id": "cyWc9VsuiQc_",
        "outputId": "4613332a-4f54-4986-d663-c96dca057807"
      },
      "outputs": [
        {
          "data": {
            "image/png": "[encoded data removed]",
            "text/plain": [
              "<Figure size 640x480 with 1 Axes>"
            ]
          },
          "metadata": {},
          "output_type": "display_data"
        }
      ],
      "source": [
        "# C. For each author, construct the list of publications. Plot a histogram of the number of publications per author (use a logarithmic scale on the y axis)\n",
        "\n",
        "# Group the dataframe by authors and aggregate the publications\n",
        "publications_per_author = df[df != 'missing'].groupby('authors')['title'].count()\n",
        "\n",
        "# Plot the histogram with a logarithmic scale on the y-axis\n",
        "plt.hist(publications_per_author, bins=10, log=True)\n",
        "\n",
        "# Set plot labels and title\n",
        "plt.xlabel('Number of Publications')\n",
        "plt.ylabel('Number of Authors (log scale)')\n",
        "plt.title('Histogram of Publications per Author')\n",
        "\n",
        "# Show the plot\n",
        "plt.show()"
      ]
    },
    {
      "cell_type": "code",
      "execution_count": null,
      "metadata": {
        "colab": {
          "base_uri": "https://localhost:8080/"
        },
        "id": "nViElxNxjD0m",
        "outputId": "69f8ed1b-8617-4032-98d3-c26025e150ed"
      },
      "outputs": [
        {
          "name": "stdout",
          "output_type": "stream",
          "text": [
            "Mean: 1.337068113654632\n",
            "Standard Deviation: 2.5649381421090633\n",
            "1st Quartile (Q1): 1.0\n",
            "Median (Q2): 1.0\n",
            "3rd Quartile (Q3): 1.0\n"
          ]
        }
      ],
      "source": [
        "\"\"\"\n",
        "D. Calculate the mean and standard deviation of the number of publications per author. Also calculate the Q1 (1st quartile14), Q2 (2nd quartile, or median) and Q3 (3rd quartile) values. \n",
        "Compare the median to the mean and explain the difference between the two values based on the standard deviation and the 1st and 3rd quartiles.\n",
        "\"\"\"\n",
        "# Calculate descriptive statistics of publications per author\n",
        "statistics = publications_per_author.describe()\n",
        "\n",
        "# Calculate the mean and standard deviation\n",
        "mean = statistics['mean']\n",
        "std_dev = statistics['std']\n",
        "\n",
        "# Calculate the quartile values\n",
        "q1 = statistics['25%']\n",
        "q2 = statistics['50%']  # Median\n",
        "q3 = statistics['75%']\n",
        "\n",
        "# Print the statistics\n",
        "print(\"Mean:\", mean)\n",
        "print(\"Standard Deviation:\", std_dev)\n",
        "print(\"1st Quartile (Q1):\", q1)\n",
        "print(\"Median (Q2):\", q2)\n",
        "print(\"3rd Quartile (Q3):\", q3)\n",
        "\n",
        "# Considering the median, which is equal to the mean in this case, and the quartiles, which are all equal, we can conclude that the data is heavily skewed towards lower values. \n",
        "# The presence of a higher standard deviation suggests that while the majority of authors have a small number of publications, there are a few authors with a significantly larger \n",
        "# number of publications, contributing to the higher standard deviation. Overall, the similarity between the mean and median indicates that the data is not heavily skewed by extreme values. \n",
        "# However, the relatively high standard deviation suggests a significant variability in the number of publications per author."
      ]
    },
    {
      "cell_type": "code",
      "execution_count": null,
      "metadata": {
        "colab": {
          "base_uri": "https://localhost:8080/",
          "height": 666
        },
        "id": "Gr1ghfsjjMdX",
        "outputId": "719341f7-37d6-4015-834b-23bc8d100c1b"
      },
      "outputs": [
        {
          "data": {
            "image/png": "[encoded data removed]",
            "text/plain": [
              "<Figure size 1200x600 with 1 Axes>"
            ]
          },
          "metadata": {},
          "output_type": "display_data"
        },
        {
          "name": "stdout",
          "output_type": "stream",
          "text": [
            "Mean: 8.725484672317975\n",
            "Standard Deviation: 106.79603003804166\n",
            "Median (Q2): 1.0\n",
            "1st Quartile (Q1): 1.0\n",
            "3rd Quartile (Q3): 1.0\n",
            "Venue with the largest number of publications: IEEE Transactions on Information Theory\n"
          ]
        }
      ],
      "source": [
        "\"\"\"\n",
        "E. Now plot a histogram of the number of publications per venue, as well as \n",
        "calculate the mean, standard deviation, median, Q1, and Q3 values. \n",
        "What is the venue with the largest number of publications in the dataset?\n",
        "\"\"\"\n",
        "\n",
        "# Group publications by venue and count the number of publications per venue\n",
        "publications_per_venue = df[df != 'missing'].groupby('publicationvenue')['index'].count()\n",
        "\n",
        "# Calculate descriptive statistics of publications per venue\n",
        "statistics = publications_per_venue.describe()\n",
        "\n",
        "# Calculate the mean, standard deviation, median, Q1, and Q3 values\n",
        "mean = statistics['mean']\n",
        "std_dev = statistics['std']\n",
        "median = statistics['50%']\n",
        "q1 = statistics['25%']\n",
        "q3 = statistics['75%']\n",
        "\n",
        "# Find the venue with the largest number of publications\n",
        "venue_with_most_publications = publications_per_venue.idxmax()\n",
        "\n",
        "# Plot the histogram\n",
        "plt.figure(figsize=(12, 6))\n",
        "plt.hist(publications_per_venue, bins=20, edgecolor='black')\n",
        "plt.xlabel('Number of Publications')\n",
        "plt.ylabel('Frequency')\n",
        "plt.title('Histogram of Number of Publications per Venue')\n",
        "plt.show()\n",
        "\n",
        "# Print the statistics and the venue with the largest number of publications\n",
        "print(\"Mean:\", mean)\n",
        "print(\"Standard Deviation:\", std_dev)\n",
        "print(\"Median (Q2):\", median)\n",
        "print(\"1st Quartile (Q1):\", q1)\n",
        "print(\"3rd Quartile (Q3):\", q3)\n",
        "print(\"Venue with the largest number of publications:\", venue_with_most_publications)"
      ]
    },
    {
      "cell_type": "code",
      "execution_count": null,
      "metadata": {
        "colab": {
          "base_uri": "https://localhost:8080/",
          "height": 316
        },
        "id": "gAcI7EmDjVvz",
        "outputId": "54dc4b54-d801-4481-f5dc-db845b4481ee"
      },
      "outputs": [
        {
          "data": {
            "text/html": [
              "\n",
              "  <div id=\"df-0c57b650-3ae0-48fe-bf35-1ee659687cd9\">\n",
              "    <div class=\"colab-df-container\">\n",
              "      <div>\n",
              "<style scoped>\n",
              "    .dataframe tbody tr th:only-of-type {\n",
              "        vertical-align: middle;\n",
              "    }\n",
              "\n",
              "    .dataframe tbody tr th {\n",
              "        vertical-align: top;\n",
              "    }\n",
              "\n",
              "    .dataframe thead th {\n",
              "        text-align: right;\n",
              "    }\n",
              "</style>\n",
              "<table border=\"1\" class=\"dataframe\">\n",
              "  <thead>\n",
              "    <tr style=\"text-align: right;\">\n",
              "      <th></th>\n",
              "      <th>title</th>\n",
              "      <th>year</th>\n",
              "      <th>publicationvenue</th>\n",
              "      <th>index</th>\n",
              "      <th>authors</th>\n",
              "      <th>abstract</th>\n",
              "      <th>references_id</th>\n",
              "    </tr>\n",
              "  </thead>\n",
              "  <tbody>\n",
              "    <tr>\n",
              "      <th>0</th>\n",
              "      <td>MOSFET table look-up models for circuit simula...</td>\n",
              "      <td>1984</td>\n",
              "      <td>Integration, the VLSI Journal</td>\n",
              "      <td>ndex1</td>\n",
              "      <td>missing</td>\n",
              "      <td>missing</td>\n",
              "      <td>missing</td>\n",
              "    </tr>\n",
              "    <tr>\n",
              "      <th>1</th>\n",
              "      <td>The verification of the protection mechanisms ...</td>\n",
              "      <td>1984</td>\n",
              "      <td>International Journal of Parallel Programming</td>\n",
              "      <td>ndex2</td>\n",
              "      <td>Virgil D. Gligor</td>\n",
              "      <td>missing</td>\n",
              "      <td>missing</td>\n",
              "    </tr>\n",
              "    <tr>\n",
              "      <th>2</th>\n",
              "      <td>Another view of functional and multivalued dep...</td>\n",
              "      <td>1984</td>\n",
              "      <td>International Journal of Parallel Programming</td>\n",
              "      <td>ndex3</td>\n",
              "      <td>M. Gyssens, J. Paredaens</td>\n",
              "      <td>missing</td>\n",
              "      <td>missing</td>\n",
              "    </tr>\n",
              "    <tr>\n",
              "      <th>3</th>\n",
              "      <td>Entity-relationship diagrams which are in BCNF</td>\n",
              "      <td>1984</td>\n",
              "      <td>International Journal of Parallel Programming</td>\n",
              "      <td>ndex4</td>\n",
              "      <td>Sushil Jajodia, Peter A. Ng, Frederick N. Spri...</td>\n",
              "      <td>missing</td>\n",
              "      <td>missing</td>\n",
              "    </tr>\n",
              "    <tr>\n",
              "      <th>4</th>\n",
              "      <td>The computer comes of age</td>\n",
              "      <td>1984</td>\n",
              "      <td>The computer comes of age</td>\n",
              "      <td>ndex5</td>\n",
              "      <td>Rene Moreau</td>\n",
              "      <td>missing</td>\n",
              "      <td>missing</td>\n",
              "    </tr>\n",
              "  </tbody>\n",
              "</table>\n",
              "</div>\n",
              "      <button class=\"colab-df-convert\" onclick=\"convertToInteractive('df-0c57b650-3ae0-48fe-bf35-1ee659687cd9')\"\n",
              "              title=\"Convert this dataframe to an interactive table.\"\n",
              "              style=\"display:none;\">\n",
              "        \n",
              "  <svg xmlns=\"http://www.w3.org/2000/svg\" height=\"24px\"viewBox=\"0 0 24 24\"\n",
              "       width=\"24px\">\n",
              "    <path d=\"M0 0h24v24H0V0z\" fill=\"none\"/>\n",
              "    <path d=\"M18.56 5.44l.94 2.06.94-2.06 2.06-.94-2.06-.94-.94-2.06-.94 2.06-2.06.94zm-11 1L8.5 8.5l.94-2.06 2.06-.94-2.06-.94L8.5 2.5l-.94 2.06-2.06.94zm10 10l.94 2.06.94-2.06 2.06-.94-2.06-.94-.94-2.06-.94 2.06-2.06.94z\"/><path d=\"M17.41 7.96l-1.37-1.37c-.4-.4-.92-.59-1.43-.59-.52 0-1.04.2-1.43.59L10.3 9.45l-7.72 7.72c-.78.78-.78 2.05 0 2.83L4 21.41c.39.39.9.59 1.41.59.51 0 1.02-.2 1.41-.59l7.78-7.78 2.81-2.81c.8-.78.8-2.07 0-2.86zM5.41 20L4 18.59l7.72-7.72 1.47 1.35L5.41 20z\"/>\n",
              "  </svg>\n",
              "      </button>\n",
              "      \n",
              "  <style>\n",
              "    .colab-df-container {\n",
              "      display:flex;\n",
              "      flex-wrap:wrap;\n",
              "      gap: 12px;\n",
              "    }\n",
              "\n",
              "    .colab-df-convert {\n",
              "      background-color: #E8F0FE;\n",
              "      border: none;\n",
              "      border-radius: 50%;\n",
              "      cursor: pointer;\n",
              "      display: none;\n",
              "      fill: #1967D2;\n",
              "      height: 32px;\n",
              "      padding: 0 0 0 0;\n",
              "      width: 32px;\n",
              "    }\n",
              "\n",
              "    .colab-df-convert:hover {\n",
              "      background-color: #E2EBFA;\n",
              "      box-shadow: 0px 1px 2px rgba(60, 64, 67, 0.3), 0px 1px 3px 1px rgba(60, 64, 67, 0.15);\n",
              "      fill: #174EA6;\n",
              "    }\n",
              "\n",
              "    [theme=dark] .colab-df-convert {\n",
              "      background-color: #3B4455;\n",
              "      fill: #D2E3FC;\n",
              "    }\n",
              "\n",
              "    [theme=dark] .colab-df-convert:hover {\n",
              "      background-color: #434B5C;\n",
              "      box-shadow: 0px 1px 3px 1px rgba(0, 0, 0, 0.15);\n",
              "      filter: drop-shadow(0px 1px 2px rgba(0, 0, 0, 0.3));\n",
              "      fill: #FFFFFF;\n",
              "    }\n",
              "  </style>\n",
              "\n",
              "      <script>\n",
              "        const buttonEl =\n",
              "          document.querySelector('#df-0c57b650-3ae0-48fe-bf35-1ee659687cd9 button.colab-df-convert');\n",
              "        buttonEl.style.display =\n",
              "          google.colab.kernel.accessAllowed ? 'block' : 'none';\n",
              "\n",
              "        async function convertToInteractive(key) {\n",
              "          const element = document.querySelector('#df-0c57b650-3ae0-48fe-bf35-1ee659687cd9');\n",
              "          const dataTable =\n",
              "            await google.colab.kernel.invokeFunction('convertToInteractive',\n",
              "                                                     [key], {});\n",
              "          if (!dataTable) return;\n",
              "\n",
              "          const docLinkHtml = 'Like what you see? Visit the ' +\n",
              "            '<a target=\"_blank\" href=https://colab.research.google.com/notebooks/data_table.ipynb>data table notebook</a>'\n",
              "            + ' to learn more about interactive tables.';\n",
              "          element.innerHTML = '';\n",
              "          dataTable['output_type'] = 'display_data';\n",
              "          await google.colab.output.renderOutput(dataTable, element);\n",
              "          const docLink = document.createElement('div');\n",
              "          docLink.innerHTML = docLinkHtml;\n",
              "          element.appendChild(docLink);\n",
              "        }\n",
              "      </script>\n",
              "    </div>\n",
              "  </div>\n",
              "  "
            ],
            "text/plain": [
              "                                               title  year  \\\n",
              "0  MOSFET table look-up models for circuit simula...  1984   \n",
              "1  The verification of the protection mechanisms ...  1984   \n",
              "2  Another view of functional and multivalued dep...  1984   \n",
              "3     Entity-relationship diagrams which are in BCNF  1984   \n",
              "4                          The computer comes of age  1984   \n",
              "\n",
              "                                publicationvenue  index  \\\n",
              "0                  Integration, the VLSI Journal  ndex1   \n",
              "1  International Journal of Parallel Programming  ndex2   \n",
              "2  International Journal of Parallel Programming  ndex3   \n",
              "3  International Journal of Parallel Programming  ndex4   \n",
              "4                      The computer comes of age  ndex5   \n",
              "\n",
              "                                             authors abstract references_id  \n",
              "0                                            missing  missing       missing  \n",
              "1                                   Virgil D. Gligor  missing       missing  \n",
              "2                           M. Gyssens, J. Paredaens  missing       missing  \n",
              "3  Sushil Jajodia, Peter A. Ng, Frederick N. Spri...  missing       missing  \n",
              "4                                        Rene Moreau  missing       missing  "
            ]
          },
          "execution_count": 23,
          "metadata": {},
          "output_type": "execute_result"
        }
      ],
      "source": [
        "df.head()"
      ]
    },
    {
      "cell_type": "code",
      "execution_count": null,
      "metadata": {
        "id": "y7OrxjQvjafK"
      },
      "outputs": [],
      "source": [
        "#Drop \"missing\" from the data\n",
        "data = df[df != 'missing'].reset_index(drop=True)\n",
        "data.dropna(subset=['references_id'], inplace=True)\n",
        "data.reset_index(drop=True, inplace=True)"
      ]
    },
    {
      "cell_type": "markdown",
      "metadata": {
        "id": "QOeKymfbjs6g"
      },
      "source": [
        "\"\"\"\n",
        "F. Plot a histogram of the number of references (number of publications a publication refers to) and citations \n",
        "(number of publications referring to a publication) per publication. What is the publication with the \n",
        "largest number of references? What is the publication with the largest number of citations? Do these make sense? \n",
        "\n"
      ]
    },
    {
      "cell_type": "code",
      "execution_count": null,
      "metadata": {
        "colab": {
          "base_uri": "https://localhost:8080/",
          "height": 1000
        },
        "id": "zxBqx6njjnwj",
        "outputId": "924c9ec1-3f7f-44bc-a909-ad369edfc67c"
      },
      "outputs": [
        {
          "data": {
            "image/png": "[encoded data removed]",
            "text/plain": [
              "<Figure size 1000x600 with 1 Axes>"
            ]
          },
          "metadata": {},
          "output_type": "display_data"
        },
        {
          "data": {
            "image/png": "[encoded data removed]",
            "text/plain": [
              "<Figure size 1000x600 with 1 Axes>"
            ]
          },
          "metadata": {},
          "output_type": "display_data"
        },
        {
          "name": "stdout",
          "output_type": "stream",
          "text": [
            "Publication with the largest number of references: Proceedings of the Twenty-Fourth ACM Symposium on Operating Systems Principles\n",
            "Publication with the largest number of citations: The Three-Machine No-Wait Flow Shop is NP-Complete\n"
          ]
        }
      ],
      "source": [
        "# Split the reference IDs and explode the column\n",
        "data['references_id'] = data['references_id'].str.split(',')\n",
        "data = data.explode('references_id')\n",
        "\n",
        "# Count the number of references for each publication\n",
        "data['num_references'] = data.groupby('index')['references_id'].transform('count')\n",
        "\n",
        "# Count the number of citations for each publication\n",
        "data['num_citations'] = data.groupby('references_id')['index'].transform('count')\n",
        "\n",
        "# Plot histogram of number of references\n",
        "plt.figure(figsize=(10, 6))\n",
        "plt.hist(data['num_references'], bins=50)\n",
        "plt.xlabel('Number of References')\n",
        "plt.ylabel('Frequency')\n",
        "plt.title('Histogram of Number of References per Publication')\n",
        "plt.show()\n",
        "\n",
        "# Plot histogram of number of citations\n",
        "plt.figure(figsize=(10, 6))\n",
        "plt.hist(data['num_citations'], bins=50)\n",
        "plt.xlabel('Number of Citations')\n",
        "plt.ylabel('Frequency')\n",
        "plt.title('Histogram of Number of Citations per Publication')\n",
        "plt.show()\n",
        "\n",
        "# Find the publication with the largest number of references\n",
        "max_references_pub = data[data['num_references'] == data['num_references'].max()]['title'].values[0]\n",
        "\n",
        "# Find the publication with the largest number of citations\n",
        "max_citations_pub = data[data['num_citations'] == data['num_citations'].max()]['title'].values[0]\n",
        "\n",
        "print(\"Publication with the largest number of references:\", max_references_pub)\n",
        "print(\"Publication with the largest number of citations:\", max_citations_pub)"
      ]
    },
    {
      "cell_type": "markdown",
      "metadata": {
        "id": "aOGAfWe1kqY9"
      },
      "source": [
        "\n",
        "I. Now repeat the calculation from item C, but restrict the calculation to venues with at least 10 publications. How does your histogram change? List the citation counts for all publications \n",
        "from the venue with the highest impact factor. How does the impact factor (mean number of citations) compare to the median number of citations? **bold text**\n"
      ]
    },
    {
      "cell_type": "code",
      "execution_count": null,
      "metadata": {
        "colab": {
          "base_uri": "https://localhost:8080/",
          "height": 601
        },
        "id": "oMrW_lSpk1kL",
        "outputId": "c48fd73f-0d20-4ef3-a38f-230231a613f0"
      },
      "outputs": [
        {
          "data": {
            "image/png": "[encoded data removed]",
            "text/plain": [
              "<Figure size 1000x600 with 1 Axes>"
            ]
          },
          "metadata": {},
          "output_type": "display_data"
        },
        {
          "name": "stdout",
          "output_type": "stream",
          "text": [
            "Venue with the highest apparent impact factor (with at least 10 publications): Proceedings of the 2014 international conference on Autonomous agents and multi-agent systems\n"
          ]
        }
      ],
      "source": [
        "# Calculate the total number of citations for each venue\n",
        "venue_citations = data.groupby('publicationvenue')['num_citations'].sum()\n",
        "\n",
        "# Calculate the number of publications for each venue\n",
        "venue_publications = data['publicationvenue'].value_counts()\n",
        "\n",
        "# Filter venues with at least 10 publications\n",
        "valid_venues = venue_publications[venue_publications >= 10].index\n",
        "\n",
        "# Calculate the impact factor for valid venues\n",
        "impact_factor = venue_citations.loc[valid_venues] / venue_publications.loc[valid_venues]\n",
        "\n",
        "# Plot histogram of impact factors\n",
        "plt.figure(figsize=(10, 6))\n",
        "plt.hist(impact_factor, bins=50)\n",
        "plt.xlabel('Impact Factor')\n",
        "plt.ylabel('Frequency')\n",
        "plt.title('Histogram of Venue Impact Factors (Venues with at least 10 publications)')\n",
        "plt.show()\n",
        "\n",
        "# Find the venue with the highest apparent impact factor\n",
        "highest_impact_venue = impact_factor.idxmax()\n",
        "\n",
        "print(\"Venue with the highest apparent impact factor (with at least 10 publications):\", highest_impact_venue)\n",
        "\n",
        "# The outliers or venues with very high impact factor are removed when we set a threshold value of 10 on number of publications and consequently the venue with high impact factor changed as well"
      ]
    },
    {
      "cell_type": "code",
      "execution_count": null,
      "metadata": {
        "colab": {
          "base_uri": "https://localhost:8080/",
          "height": 425
        },
        "id": "dVCsbeXBlSIP",
        "outputId": "a81e94a5-fab7-4d1d-ab0c-dbf60e66fe80"
      },
      "outputs": [
        {
          "data": {
            "image/png": "[encoded data removed]",
            "text/plain": [
              "<Figure size 2000x600 with 1 Axes>"
            ]
          },
          "metadata": {},
          "output_type": "display_data"
        }
      ],
      "source": [
        "import matplotlib.pyplot as plt\n",
        "\n",
        "data = data.dropna(subset='year')\n",
        "\n",
        "# Group the DataFrame by publication year\n",
        "grouped = data.groupby('year')\n",
        "\n",
        "# Initialize lists for average references and citations\n",
        "avg_references = []\n",
        "avg_citations = []\n",
        "\n",
        "# Calculate the average number of references and citations for each year\n",
        "for year, group in grouped:\n",
        "    avg_ref = group['num_references'].mean()\n",
        "    avg_cit = group['num_citations'].mean()\n",
        "    avg_references.append(avg_ref)\n",
        "    avg_citations.append(avg_cit)\n",
        "\n",
        "# Get the publication years\n",
        "years = grouped.groups.keys()\n",
        "\n",
        "# Plotting\n",
        "plt.figure(figsize=(20, 6))\n",
        "plt.plot(years, avg_references, label='Average References')\n",
        "plt.plot(years, avg_citations, label='Average Citations')\n",
        "plt.xlabel('Publication Year')\n",
        "plt.ylabel('Average Number')\n",
        "plt.title('Average Number of References and Citations per Publication over Time')\n",
        "plt.legend()\n",
        "plt.xticks(rotation=45)\n",
        "plt.show()\n"
      ]
    },
    {
      "cell_type": "markdown",
      "metadata": {
        "id": "KzKpgz-Rl-B_"
      },
      "source": [
        "[link text](https://)"
      ]
    },
    {
      "cell_type": "code",
      "execution_count": null,
      "metadata": {
        "colab": {
          "base_uri": "https://localhost:8080/"
        },
        "id": "JQxfY-AlmOrs",
        "outputId": "78413298-addf-4ca1-cea7-80fedd5ebc89"
      },
      "outputs": [
        {
          "data": {
            "text/plain": [
              "27955"
            ]
          },
          "execution_count": 28,
          "metadata": {},
          "output_type": "execute_result"
        }
      ],
      "source": [
        "import gc\n",
        "\n",
        "del df\n",
        "del data\n",
        "gc.collect()"
      ]
    },
    {
      "cell_type": "code",
      "execution_count": null,
      "metadata": {
        "id": "S-KALIYxIEMO"
      },
      "outputs": [],
      "source": [
        "from  google.colab import drive\n",
        "drive.mount(\"/content/drive\")"
      ]
    },
    {
      "cell_type": "code",
      "execution_count": null,
      "metadata": {
        "colab": {
          "base_uri": "https://localhost:8080/"
        },
        "id": "5atO0g-gmU3E",
        "outputId": "ce6bdef4-8edd-4ddb-da8f-57224b5517e7"
      },
      "outputs": [
        {
          "name": "stdout",
          "output_type": "stream",
          "text": [
            "--2023-05-22 03:12:50--  http://fimi.uantwerpen.be/data/kosarak.dat\n",
            "Resolving fimi.uantwerpen.be (fimi.uantwerpen.be)... 143.129.69.1\n",
            "Connecting to fimi.uantwerpen.be (fimi.uantwerpen.be)|143.129.69.1|:80... connected.\n",
            "HTTP request sent, awaiting response... 200 OK\n",
            "Length: 32029467 (31M)\n",
            "Saving to: ‘kosarak.dat.1’\n",
            "\n",
            "kosarak.dat.1       100%[===================>]  30.54M  6.89MB/s    in 4.4s    \n",
            "\n",
            "2023-05-22 03:12:55 (6.89 MB/s) - ‘kosarak.dat.1’ saved [32029467/32029467]\n",
            "\n"
          ]
        }
      ],
      "source": [
        "!wget http://fimi.uantwerpen.be/data/kosarak.dat"
      ]
    },
    {
      "cell_type": "markdown",
      "metadata": {
        "id": "H9D-uF5pmiGZ"
      },
      "source": [
        "A. Write a Python program which takes as its argument5 the path to a text file of data (assumed to be in the itemset format above) and produces as output to the console a sparse ARFF file.\n",
        "\n",
        "B. Use your program to convert the kosarak.dat file to a sparse kosarak.arff. About how long did it take to run? **bold text**\n"
      ]
    },
    {
      "cell_type": "code",
      "execution_count": null,
      "metadata": {
        "id": "yIDLngL9mfYm"
      },
      "outputs": [],
      "source": [
        "def convert_to_sparse_arff(input_file, output_file):\n",
        "    with open(input_file, 'r') as f:\n",
        "        lines = f.readlines()\n",
        "    #lines = lines[:5000]\n",
        "    # Extract unique news item IDs\n",
        "    item_ids = set()\n",
        "    for line in lines:\n",
        "        items = line.strip().split()\n",
        "        item_ids.update(items)\n",
        "\n",
        "    # Sort and assign attribute indices\n",
        "    sorted_item_ids = sorted(item_ids)\n",
        "    attribute_indices = {item_id: str(index) for index, item_id in enumerate(sorted_item_ids, start=1)}\n",
        "\n",
        "    with open(output_file, 'w') as f:\n",
        "        # Write ARFF file header\n",
        "        f.write('@relation kosarak\\n')\n",
        "        for item_id in sorted_item_ids:\n",
        "            f.write('@attribute i{0} {{0, 1}}\\n'.format(attribute_indices[item_id]))\n",
        "        f.write('@data\\n')\n",
        "\n",
        "        # Write binary sequences\n",
        "        for line in lines:\n",
        "            items = line.strip().split()\n",
        "            sequence = set()\n",
        "            for item in items:\n",
        "                sequence.add((int(item) - 1, 1))\n",
        "            sequence = list(sequence)\n",
        "            sequence = sorted(sequence, key=lambda x:x[0])\n",
        "            #print(sequence)\n",
        "            sequence = [f'{i[0]} {i[1]}' for i in sequence]\n",
        "            f.write(f\"{{{','.join(sequence)}}}\\n\")\n",
        "\n",
        "# Specify the input and output file paths\n",
        "input_file = 'kosarak.dat'\n",
        "output_file = '/content/drive/MyDrive/KNN_Kosarok_data/kosarak_complete.arff'\n",
        "\n",
        "# Convert the file to sparse ARFF format\n",
        "convert_to_sparse_arff(input_file, output_file)"
      ]
    },
    {
      "cell_type": "markdown",
      "metadata": {
        "id": "n_qjKaQ9vyU6"
      },
      "source": [
        "**About** how long did it take to run: Ecuting took time 9s."
      ]
    },
    {
      "cell_type": "markdown",
      "metadata": {
        "id": "oeJRRxr_IIfB"
      },
      "source": [
        "=== Run information ===\n",
        "\n",
        "Scheme:       weka.associations.FPGrowth -P 2 -I -1 -N 10 -T 0 -C 0.99 -D 0.05 -U 1.0 -M 49500.0\n",
        "Relation:     kosarak\n",
        "Instances:    990002\n",
        "Attributes:   41270\n",
        "              [list of attributes omitted]\n",
        "=== Associator model (full training set) ===\n",
        "\n",
        "FPGrowth found 2 rules (displaying top 2)\n",
        "\n",
        "1. [i11=1, i218=1, i148=1]: 50098 ==> [i6=1]: 49866   <conf:(1)> lift:(1.64) lev:(0.02) conv:(84.4) \n",
        "2. [i11=1, i148=1]: 55759 ==> [i6=1]: 55230   <conf:(0.99)> lift:(1.63) lev:(0.02) conv:(41.3) "
      ]
    },
    {
      "cell_type": "code",
      "execution_count": 2,
      "metadata": {
        "id": "SOYDv4Jldj3R"
      },
      "outputs": [],
      "source": [
        "import numpy as np\n",
        "from sklearn.datasets import fetch_20newsgroups\n",
        "from sklearn.feature_extraction.text import TfidfVectorizer\n",
        "from sklearn.metrics.pairwise import cosine_similarity, euclidean_distances\n",
        "import tensorflow as tf\n",
        "from scipy.spatial.distance import cdist"
      ]
    },
    {
      "cell_type": "code",
      "execution_count": 4,
      "metadata": {
        "id": "_wo5xMskEAWb"
      },
      "outputs": [],
      "source": [
        "# 20NG\n",
        "# Fetch the 20NG dataset\n",
        "data = fetch_20newsgroups()\n",
        "\n",
        "# Access the data and labels\n",
        "X = data.data  # Textual features\n",
        "y = data.target  # Labels"
      ]
    },
    {
      "cell_type": "code",
      "execution_count": 5,
      "metadata": {
        "colab": {
          "base_uri": "https://localhost:8080/"
        },
        "id": "_C81Xfhh4ry7",
        "outputId": "891d05d8-dbc5-46a2-8375-112b7285a6d6"
      },
      "outputs": [
        {
          "name": "stdout",
          "output_type": "stream",
          "text": [
            "From: lerxst@wam.umd.edu (where's my thing)\n",
            "Subject: WHAT car is this!?\n",
            "Nntp-Posting-Host: rac3.wam.umd.edu\n",
            "Organization: University of Maryland, College Park\n",
            "Lines: 15\n",
            "\n",
            " I was wondering if anyone out there could enlighten me on this car I saw\n",
            "the other day. It was a 2-door sports car, looked to be from the late 60s/\n",
            "early 70s. It was called a Bricklin. The doors were really small. In addition,\n",
            "the front bumper was separate from the rest of the body. This is \n",
            "all I know. If anyone can tellme a model name, engine specs, years\n",
            "of production, where this car is made, history, or whatever info you\n",
            "have on this funky looking car, please e-mail.\n",
            "\n",
            "Thanks,\n",
            "- IL\n",
            "   ---- brought to you by your neighborhood Lerxst ----\n",
            "\n",
            "\n",
            "\n",
            "\n",
            "\n"
          ]
        }
      ],
      "source": [
        "print(X[0])"
      ]
    },
    {
      "cell_type": "code",
      "execution_count": 6,
      "metadata": {
        "id": "9OGQ_6pZ4x4V"
      },
      "outputs": [],
      "source": [
        "import re\n",
        "def normalized_score_vector(doc):\n",
        "  words_count = {}\n",
        "  doc = doc.lower() # converting text to lower case\n",
        "  doc = re.sub('[^a-z0-9\\s]+', '', doc) # filter out any non alphabetical character\n",
        "  tfs = {} # maintains a tfs frequency inside document\n",
        "  words = doc.split()\n",
        "  for word in words:\n",
        "    if word in tfs:\n",
        "      tfs[word] += 1\n",
        "    else:\n",
        "      tfs[word] = 1\n",
        "  # print(tfs)\n",
        "  # document length\n",
        "  DL = len(words)\n",
        "  # normalize \n",
        "  normalized_tf = {word: tf/DL for word, tf in tfs.items()}\n",
        "  # print(normalized_tf)\n",
        "  return normalized_tf"
      ]
    },
    {
      "cell_type": "code",
      "execution_count": 7,
      "metadata": {
        "colab": {
          "base_uri": "https://localhost:8080/"
        },
        "id": "7QkgyIqM40DZ",
        "outputId": "ed98deca-5084-4bae-cf78-d116744f0a8b"
      },
      "outputs": [
        {
          "data": {
            "text/plain": [
              "{'from': 0.025,\n",
              " 'lerxstwamumdedu': 0.008333333333333333,\n",
              " 'wheres': 0.008333333333333333,\n",
              " 'my': 0.008333333333333333,\n",
              " 'thing': 0.008333333333333333,\n",
              " 'subject': 0.008333333333333333,\n",
              " 'what': 0.008333333333333333,\n",
              " 'car': 0.041666666666666664,\n",
              " 'is': 0.025,\n",
              " 'this': 0.041666666666666664,\n",
              " 'nntppostinghost': 0.008333333333333333,\n",
              " 'rac3wamumdedu': 0.008333333333333333,\n",
              " 'organization': 0.008333333333333333,\n",
              " 'university': 0.008333333333333333,\n",
              " 'of': 0.025,\n",
              " 'maryland': 0.008333333333333333,\n",
              " 'college': 0.008333333333333333,\n",
              " 'park': 0.008333333333333333,\n",
              " 'lines': 0.008333333333333333,\n",
              " '15': 0.008333333333333333,\n",
              " 'i': 0.025,\n",
              " 'was': 0.03333333333333333,\n",
              " 'wondering': 0.008333333333333333,\n",
              " 'if': 0.016666666666666666,\n",
              " 'anyone': 0.016666666666666666,\n",
              " 'out': 0.008333333333333333,\n",
              " 'there': 0.008333333333333333,\n",
              " 'could': 0.008333333333333333,\n",
              " 'enlighten': 0.008333333333333333,\n",
              " 'me': 0.008333333333333333,\n",
              " 'on': 0.016666666666666666,\n",
              " 'saw': 0.008333333333333333,\n",
              " 'the': 0.05,\n",
              " 'other': 0.008333333333333333,\n",
              " 'day': 0.008333333333333333,\n",
              " 'it': 0.016666666666666666,\n",
              " 'a': 0.025,\n",
              " '2door': 0.008333333333333333,\n",
              " 'sports': 0.008333333333333333,\n",
              " 'looked': 0.008333333333333333,\n",
              " 'to': 0.016666666666666666,\n",
              " 'be': 0.008333333333333333,\n",
              " 'late': 0.008333333333333333,\n",
              " '60s': 0.008333333333333333,\n",
              " 'early': 0.008333333333333333,\n",
              " '70s': 0.008333333333333333,\n",
              " 'called': 0.008333333333333333,\n",
              " 'bricklin': 0.008333333333333333,\n",
              " 'doors': 0.008333333333333333,\n",
              " 'were': 0.008333333333333333,\n",
              " 'really': 0.008333333333333333,\n",
              " 'small': 0.008333333333333333,\n",
              " 'in': 0.008333333333333333,\n",
              " 'addition': 0.008333333333333333,\n",
              " 'front': 0.008333333333333333,\n",
              " 'bumper': 0.008333333333333333,\n",
              " 'separate': 0.008333333333333333,\n",
              " 'rest': 0.008333333333333333,\n",
              " 'body': 0.008333333333333333,\n",
              " 'all': 0.008333333333333333,\n",
              " 'know': 0.008333333333333333,\n",
              " 'can': 0.008333333333333333,\n",
              " 'tellme': 0.008333333333333333,\n",
              " 'model': 0.008333333333333333,\n",
              " 'name': 0.008333333333333333,\n",
              " 'engine': 0.008333333333333333,\n",
              " 'specs': 0.008333333333333333,\n",
              " 'years': 0.008333333333333333,\n",
              " 'production': 0.008333333333333333,\n",
              " 'where': 0.008333333333333333,\n",
              " 'made': 0.008333333333333333,\n",
              " 'history': 0.008333333333333333,\n",
              " 'or': 0.008333333333333333,\n",
              " 'whatever': 0.008333333333333333,\n",
              " 'info': 0.008333333333333333,\n",
              " 'you': 0.016666666666666666,\n",
              " 'have': 0.008333333333333333,\n",
              " 'funky': 0.008333333333333333,\n",
              " 'looking': 0.008333333333333333,\n",
              " 'please': 0.008333333333333333,\n",
              " 'email': 0.008333333333333333,\n",
              " 'thanks': 0.008333333333333333,\n",
              " 'il': 0.008333333333333333,\n",
              " 'brought': 0.008333333333333333,\n",
              " 'by': 0.008333333333333333,\n",
              " 'your': 0.008333333333333333,\n",
              " 'neighborhood': 0.008333333333333333,\n",
              " 'lerxst': 0.008333333333333333}"
            ]
          },
          "execution_count": 7,
          "metadata": {},
          "output_type": "execute_result"
        }
      ],
      "source": [
        "# testing on single document\n",
        "normalized_score_vector(X[0])"
      ]
    },
    {
      "cell_type": "code",
      "execution_count": 8,
      "metadata": {
        "id": "Vg8k7-hj43_T"
      },
      "outputs": [],
      "source": [
        "# compute noramlized tf values for all documents in corpus\n",
        "normalized_tfs_all = []\n",
        "for doc in X:\n",
        "  normalized_tfs_all.append(normalized_score_vector(doc))"
      ]
    },
    {
      "cell_type": "code",
      "execution_count": 10,
      "metadata": {
        "id": "u4QCgEz65IP-"
      },
      "outputs": [],
      "source": [
        "# while developing sampling to smaller set\n",
        "normalized_tfs_small = normalized_tfs_all[:10]"
      ]
    },
    {
      "cell_type": "code",
      "execution_count": 11,
      "metadata": {
        "id": "BAiKW_4z5Pj7"
      },
      "outputs": [],
      "source": [
        "# creating vocabulary dicitonary which will generate a dictionary entry for every single word in all documents\n",
        "# we will use these words to access and update our dok_matrix in sparse format\n",
        "vocab_set = set()\n",
        "for doc in normalized_tfs_all:\n",
        "  vocab_set.update(doc.keys())\n",
        "# cosine_similarity(normalized_tfs_all[0], normalized_tfs_all[1])\n",
        "vocab_set = sorted(list(vocab_set))\n",
        "vocab = {word:ind for ind, word in enumerate(vocab_set)}"
      ]
    },
    {
      "cell_type": "code",
      "execution_count": 12,
      "metadata": {
        "id": "tWo_Cnks5T1M"
      },
      "outputs": [],
      "source": [
        "# using sparse matrix representation from scipy which allows values to be accessed as dictionary of keys\n",
        "\n",
        "from scipy.sparse import dok_matrix\n",
        "matrix = dok_matrix((len(normalized_tfs_all), len(vocab)), dtype=np.float32)\n",
        "for i, doc in enumerate(normalized_tfs_all):\n",
        "  for word, normalized_tf in doc.items():\n",
        "    j = vocab[word] # get the unique index for a word from vocab\n",
        "    matrix[i, j] = normalized_tf"
      ]
    },
    {
      "cell_type": "code",
      "execution_count": 14,
      "metadata": {
        "id": "Ga1g3DIf5tUq"
      },
      "outputs": [],
      "source": [
        "# converting the dok_matrix to csr_matrix as its is more efficient for distance computations\n",
        "from scipy.sparse import csr_matrix\n",
        "sparse_matrix = csr_matrix(matrix)"
      ]
    },
    {
      "cell_type": "code",
      "execution_count": 15,
      "metadata": {
        "id": "ZMm59Zde5drC"
      },
      "outputs": [],
      "source": [
        "# # # Compute pairwise cosine similarity\n",
        "cosine_sim = cosine_similarity(sparse_matrix)"
      ]
    },
    {
      "cell_type": "code",
      "execution_count": 16,
      "metadata": {
        "id": "F0kUAfPg51Io"
      },
      "outputs": [],
      "source": [
        "# # # Compute pairwise cosine similarity\n",
        "cosine_sim = cosine_similarity(sparse_matrix)"
      ]
    },
    {
      "cell_type": "code",
      "execution_count": 17,
      "metadata": {
        "id": "n7_ndoDf59aV"
      },
      "outputs": [],
      "source": [
        "# # # Compute pairwise Euclidean distance\n",
        "euclidean_dist = euclidean_distances(sparse_matrix)"
      ]
    },
    {
      "cell_type": "code",
      "execution_count": 18,
      "metadata": {
        "id": "KnluVakIEQWS"
      },
      "outputs": [],
      "source": [
        " # Compute pairwise editing distance with threshold\n",
        "threshold = 0.1\n",
        "editing_dist = cdist(sparse_matrix, sparse_matrix, metric='minkowski', p=1) > threshold"
      ]
    },
    {
      "cell_type": "code",
      "execution_count": null,
      "metadata": {
        "colab": {
          "base_uri": "https://localhost:8080/"
        },
        "id": "YXD5GFS9ERw_",
        "outputId": "a043c499-1dfc-4350-ba8d-14746b0947ab"
      },
      "outputs": [
        {
          "name": "stdout",
          "output_type": "stream",
          "text": [
            "Downloading data from https://storage.googleapis.com/tensorflow/tf-keras-datasets/mnist.npz\n",
            "11490434/11490434 [==============================] - 1s 0us/step\n"
          ]
        }
      ],
      "source": [
        "# MNIST\n",
        "\n",
        "# Load the MNIST dataset\n",
        "(X_train_mnist, y_train_mnist), (X_test_mnist, y_test_mnist) = tf.keras.datasets.mnist.load_data()\n",
        "\n",
        "# Flatten the images\n",
        "X_train_mnist = X_train_mnist.reshape(X_train_mnist.shape[0], -1)\n",
        "X_test_mnist = X_test_mnist.reshape(X_test_mnist.shape[0], -1)"
      ]
    },
    {
      "cell_type": "code",
      "execution_count": null,
      "metadata": {
        "id": "WSENdawTEc6r"
      },
      "outputs": [],
      "source": [
        "# Shift and scale normalization\n",
        "X_train_normalized_mnist = (X_train_mnist - np.min(X_train_mnist)) / (np.max(X_train_mnist) - np.min(X_train_mnist))\n",
        "X_test_normalized_mnist = (X_test_mnist - np.min(X_test_mnist)) / (np.max(X_test_mnist) - np.min(X_test_mnist))\n",
        "\n",
        "# Zero mean, unit variance normalization\n",
        "X_train_normalized_mnist = (X_train_mnist - np.mean(X_train_mnist)) / np.std(X_train_mnist)\n",
        "X_test_normalized_mnist = (X_test_mnist - np.min(X_test_mnist)) / np.std(X_test_mnist)"
      ]
    },
    {
      "cell_type": "code",
      "execution_count": null,
      "metadata": {
        "id": "xrhDW8GSEmI0"
      },
      "outputs": [],
      "source": [
        "# # # Compute pairwise cosine similarity\n",
        "#cosine_sim = cosine_similarity(X_train_normalized_mnist)\n",
        "\n",
        "# # # Compute pairwise Euclidean distance\n",
        "#euclidean_dist = euclidean_distances(X_train_normalized_mnist)\n",
        "\n",
        "# # Compute pairwise editing distance with threshold\n",
        "#threshold = 0.1\n",
        "#editing_dist = cdist(X_train_normalized_mnist, X_train_normalized_mnist, metric='minkowski', p=1) > threshold"
      ]
    },
    {
      "cell_type": "markdown",
      "metadata": {
        "id": "ktM_k_qQjUeA"
      },
      "source": [
        "\"\"\"\n",
        " MNIS 20 NG : Train and test KNN classification (supervised) \n",
        "Some datasets might come organized into train/test in which case we respect that. Other datasets come without this organization in which case we randomly (\"random\" here is very important, data must be shuffled) pick about 80% of data as training , 10% as validation (also used in training) and 10% as testing data (completely unavailable to training)\n",
        "For each of the two datasets, now in matrix format and with pairwise similarity computed, train and test KNN classification. Report both training performance and testing performance. You are required to implement KNN yourself, but can youse suport libraries and datastructures. \n",
        "\"\"\""
      ]
    },
    {
      "cell_type": "code",
      "execution_count": 19,
      "metadata": {
        "id": "BSBuvrUE6h0t"
      },
      "outputs": [],
      "source": [
        "import numpy as np\n",
        "from sklearn.datasets import fetch_20newsgroups\n",
        "from sklearn.feature_extraction.text import TfidfVectorizer\n",
        "from sklearn.metrics.pairwise import cosine_similarity, euclidean_distances\n",
        "import tensorflow as tf\n",
        "from scipy.spatial.distance import cdist\n",
        "from scipy.stats import mode\n",
        "from sklearn.model_selection import train_test_split\n",
        "from sklearn.metrics import accuracy_score"
      ]
    },
    {
      "cell_type": "code",
      "execution_count": 20,
      "metadata": {
        "id": "jjvSyzW3jXNt"
      },
      "outputs": [],
      "source": [
        "# 20NG\n",
        "# Fetch the 20NG dataset\n",
        "data = fetch_20newsgroups()\n",
        "\n",
        "# Access the data and labels\n",
        "X = data.data  # Textual features\n",
        "y = data.target  # Labels"
      ]
    },
    {
      "cell_type": "code",
      "execution_count": 21,
      "metadata": {
        "id": "d6vXfs3168v8"
      },
      "outputs": [],
      "source": [
        "import re\n",
        "def normalized_score_vector(doc):\n",
        "  words_count = {}\n",
        "  doc = doc.lower() # converting text to lower case\n",
        "  doc = re.sub('[^a-z0-9\\s]+', '', doc) # filter out any non alphabetical character\n",
        "  tfs = {} # maintains a tfs frequency inside document\n",
        "  words = doc.split()\n",
        "  for word in words:\n",
        "    if word in tfs:\n",
        "      tfs[word] += 1\n",
        "    else:\n",
        "      tfs[word] = 1\n",
        "  # print(tfs)\n",
        "  # document length\n",
        "  DL = len(words)\n",
        "  # normalize \n",
        "  normalized_tf = {word: tf/DL for word, tf in tfs.items()}\n",
        "  # print(normalized_tf)\n",
        "  return normalized_tf"
      ]
    },
    {
      "cell_type": "code",
      "execution_count": 22,
      "metadata": {
        "id": "VVeHkjNZ6-Hk"
      },
      "outputs": [],
      "source": [
        "# compute noramlized tf values for all documents in corpus\n",
        "normalized_tfs_all = []\n",
        "for doc in X:\n",
        "  normalized_tfs_all.append(normalized_score_vector(doc))"
      ]
    },
    {
      "cell_type": "code",
      "execution_count": 23,
      "metadata": {
        "id": "77UVyRe17DYB"
      },
      "outputs": [],
      "source": [
        "# creating vocabulary dicitonary which will generate a dictionary entry for every single word in all documents\n",
        "# we will use these words to access and update our dok_matrix in sparse format\n",
        "vocab_set = set()\n",
        "for doc in normalized_tfs_all:\n",
        "  vocab_set.update(doc.keys())\n",
        "\n",
        "vocab_set = sorted(list(vocab_set))\n",
        "vocab = {word:ind for ind, word in enumerate(vocab_set)}"
      ]
    },
    {
      "cell_type": "code",
      "execution_count": 24,
      "metadata": {
        "id": "hXRnvPYF7IIg"
      },
      "outputs": [],
      "source": [
        "# using sparse matrix representation from scipy which allows values to be accessed as dictionary of keys\n",
        "\n",
        "from scipy.sparse import dok_matrix\n",
        "matrix = dok_matrix((len(normalized_tfs_all), len(vocab)), dtype=np.float32)\n",
        "for i, doc in enumerate(normalized_tfs_all):\n",
        "  for word, normalized_tf in doc.items():\n",
        "    j = vocab[word] # get the unique index for a word from vocab\n",
        "    matrix[i, j] = normalized_tf"
      ]
    },
    {
      "cell_type": "code",
      "execution_count": 25,
      "metadata": {
        "id": "RuKLuiF97V1f"
      },
      "outputs": [],
      "source": [
        "# converting the dok_matrix to csr_matrix as its is more efficient for distance computations\n",
        "from scipy.sparse import csr_matrix\n",
        "sparse_matrix = csr_matrix(matrix)"
      ]
    },
    {
      "cell_type": "code",
      "execution_count": 26,
      "metadata": {
        "colab": {
          "base_uri": "https://localhost:8080/"
        },
        "id": "OeAshgcA7hag",
        "outputId": "5bf41e77-10ea-42ae-95a1-ae2342951702"
      },
      "outputs": [
        {
          "name": "stdout",
          "output_type": "stream",
          "text": [
            "Downloading data from https://storage.googleapis.com/tensorflow/tf-keras-datasets/mnist.npz\n",
            "11490434/11490434 [==============================] - 1s 0us/step\n"
          ]
        }
      ],
      "source": [
        "# MNIST\n",
        "\n",
        "# Load the MNIST dataset\n",
        "(X_train_mnist, y_train_mnist), (X_test_mnist, y_test_mnist) = tf.keras.datasets.mnist.load_data()\n",
        "\n",
        "# Flatten the images\n",
        "X_train_mnist = X_train_mnist.reshape(X_train_mnist.shape[0], -1)\n",
        "X_test_mnist = X_test_mnist.reshape(X_test_mnist.shape[0], -1)"
      ]
    },
    {
      "cell_type": "code",
      "execution_count": 27,
      "metadata": {
        "id": "qbul_eWd7wH6"
      },
      "outputs": [],
      "source": [
        "# Shift and scale normalization\n",
        "X_train_normalized_mnist = (X_train_mnist - np.min(X_train_mnist)) / (np.max(X_train_mnist) - np.min(X_train_mnist))\n",
        "X_test_normalized_mnist = (X_test_mnist - np.min(X_test_mnist)) / (np.max(X_test_mnist) - np.min(X_test_mnist))\n",
        "\n",
        "# Zero mean, unit variance normalization\n",
        "X_train_normalized_mnist = (X_train_mnist - np.mean(X_train_mnist)) / np.std(X_train_mnist)\n",
        "X_test_normalized_mnist = (X_test_mnist - np.min(X_test_mnist)) / np.std(X_test_mnist)\n"
      ]
    },
    {
      "cell_type": "code",
      "execution_count": 28,
      "metadata": {
        "id": "EyCnme9777jo"
      },
      "outputs": [],
      "source": [
        "import numpy as np\n",
        "from scipy.stats import mode\n",
        "from sklearn.model_selection import train_test_split\n",
        "from sklearn.metrics import accuracy_score"
      ]
    },
    {
      "cell_type": "code",
      "execution_count": 29,
      "metadata": {
        "id": "-o_3-ZR-8AP2"
      },
      "outputs": [],
      "source": [
        "# 20 NG\n",
        "\n",
        "# Split the 20NG dataset into training, validation, and testing sets\n",
        "X_train, X_test, y_train, y_test = train_test_split(sparse_matrix, y, test_size=0.1, random_state=2023)\n",
        "X_train_, X_val, y_train_, y_val = train_test_split(X_train, y_train, test_size=0.1, random_state=2023)"
      ]
    },
    {
      "cell_type": "code",
      "execution_count": 30,
      "metadata": {
        "id": "jF7TXfyX8J9g"
      },
      "outputs": [],
      "source": [
        "class KNNClassifier:\n",
        "    def __init__(self, k, similarity='euclidean'):\n",
        "        self.k = k\n",
        "        # choices euclidean and cosine\n",
        "        self.similarity = 'cosine'\n",
        "\n",
        "    def fit(self, X_train, y_train):\n",
        "        self.X_train = X_train\n",
        "        self.y_train = y_train\n",
        "\n",
        "    def predict(self, X_test):\n",
        "        if self.similarity == 'cosine':\n",
        "          distances = cosine_similarity(X_test, self.X_train)\n",
        "        else:\n",
        "          distances = euclidean_distances(X_test, self.X_train)\n",
        "        k_nearest_indices = np.argsort(distances, axis=1)[:, :self.k]\n",
        "        k_nearest_labels = self.y_train[k_nearest_indices]\n",
        "        mode_labels = mode(k_nearest_labels, axis=1)[0]\n",
        "        predictions = mode_labels.ravel()\n",
        "        return predictions"
      ]
    },
    {
      "cell_type": "code",
      "execution_count": 31,
      "metadata": {
        "colab": {
          "base_uri": "https://localhost:8080/"
        },
        "id": "RjKSoSQP8SL4",
        "outputId": "fdf78d80-64ec-4a61-ae03-a9b1af71d6a4"
      },
      "outputs": [
        {
          "name": "stdout",
          "output_type": "stream",
          "text": [
            "Testing with k=2\n"
          ]
        },
        {
          "name": "stderr",
          "output_type": "stream",
          "text": [
            "<ipython-input-30-a79f19780a4f>:18: FutureWarning: Unlike other reduction functions (e.g. `skew`, `kurtosis`), the default behavior of `mode` typically preserves the axis it acts along. In SciPy 1.11.0, this behavior will change: the default value of `keepdims` will become False, the `axis` over which the statistic is taken will be eliminated, and the value None will no longer be accepted. Set `keepdims` to True or False to avoid this warning.\n",
            "  mode_labels = mode(k_nearest_labels, axis=1)[0]\n"
          ]
        },
        {
          "name": "stdout",
          "output_type": "stream",
          "text": [
            "Training Accuracy: 0.05097230406599882\n",
            "Testing Accuracy: 0.054770318021201414\n",
            "Testing with k=3\n"
          ]
        },
        {
          "name": "stderr",
          "output_type": "stream",
          "text": [
            "<ipython-input-30-a79f19780a4f>:18: FutureWarning: Unlike other reduction functions (e.g. `skew`, `kurtosis`), the default behavior of `mode` typically preserves the axis it acts along. In SciPy 1.11.0, this behavior will change: the default value of `keepdims` will become False, the `axis` over which the statistic is taken will be eliminated, and the value None will no longer be accepted. Set `keepdims` to True or False to avoid this warning.\n",
            "  mode_labels = mode(k_nearest_labels, axis=1)[0]\n"
          ]
        },
        {
          "name": "stdout",
          "output_type": "stream",
          "text": [
            "Training Accuracy: 0.05087409153407975\n",
            "Testing Accuracy: 0.054770318021201414\n",
            "Testing with k=4\n"
          ]
        },
        {
          "name": "stderr",
          "output_type": "stream",
          "text": [
            "<ipython-input-30-a79f19780a4f>:18: FutureWarning: Unlike other reduction functions (e.g. `skew`, `kurtosis`), the default behavior of `mode` typically preserves the axis it acts along. In SciPy 1.11.0, this behavior will change: the default value of `keepdims` will become False, the `axis` over which the statistic is taken will be eliminated, and the value None will no longer be accepted. Set `keepdims` to True or False to avoid this warning.\n",
            "  mode_labels = mode(k_nearest_labels, axis=1)[0]\n"
          ]
        },
        {
          "name": "stdout",
          "output_type": "stream",
          "text": [
            "Training Accuracy: 0.05097230406599882\n",
            "Testing Accuracy: 0.054770318021201414\n",
            "Testing with k=5\n"
          ]
        },
        {
          "name": "stderr",
          "output_type": "stream",
          "text": [
            "<ipython-input-30-a79f19780a4f>:18: FutureWarning: Unlike other reduction functions (e.g. `skew`, `kurtosis`), the default behavior of `mode` typically preserves the axis it acts along. In SciPy 1.11.0, this behavior will change: the default value of `keepdims` will become False, the `axis` over which the statistic is taken will be eliminated, and the value None will no longer be accepted. Set `keepdims` to True or False to avoid this warning.\n",
            "  mode_labels = mode(k_nearest_labels, axis=1)[0]\n"
          ]
        },
        {
          "name": "stdout",
          "output_type": "stream",
          "text": [
            "Training Accuracy: 0.05097230406599882\n",
            "Testing Accuracy: 0.054770318021201414\n",
            "Testing with k=6\n"
          ]
        },
        {
          "name": "stderr",
          "output_type": "stream",
          "text": [
            "<ipython-input-30-a79f19780a4f>:18: FutureWarning: Unlike other reduction functions (e.g. `skew`, `kurtosis`), the default behavior of `mode` typically preserves the axis it acts along. In SciPy 1.11.0, this behavior will change: the default value of `keepdims` will become False, the `axis` over which the statistic is taken will be eliminated, and the value None will no longer be accepted. Set `keepdims` to True or False to avoid this warning.\n",
            "  mode_labels = mode(k_nearest_labels, axis=1)[0]\n"
          ]
        },
        {
          "name": "stdout",
          "output_type": "stream",
          "text": [
            "Training Accuracy: 0.05097230406599882\n",
            "Testing Accuracy: 0.054770318021201414\n",
            "Testing with k=7\n"
          ]
        },
        {
          "name": "stderr",
          "output_type": "stream",
          "text": [
            "<ipython-input-30-a79f19780a4f>:18: FutureWarning: Unlike other reduction functions (e.g. `skew`, `kurtosis`), the default behavior of `mode` typically preserves the axis it acts along. In SciPy 1.11.0, this behavior will change: the default value of `keepdims` will become False, the `axis` over which the statistic is taken will be eliminated, and the value None will no longer be accepted. Set `keepdims` to True or False to avoid this warning.\n",
            "  mode_labels = mode(k_nearest_labels, axis=1)[0]\n"
          ]
        },
        {
          "name": "stdout",
          "output_type": "stream",
          "text": [
            "Training Accuracy: 0.05097230406599882\n",
            "Testing Accuracy: 0.054770318021201414\n"
          ]
        }
      ],
      "source": [
        "# Create an instance of KNNClassifier\n",
        "train_accuracies = []\n",
        "test_accuracies = []\n",
        "for k in range(2, 8, 1):\n",
        "  print(f\"Testing with k={k}\")\n",
        "  knn = KNNClassifier(k=k)\n",
        "\n",
        "  # Train the KNN classifier\n",
        "  knn.fit(X_train, y_train)\n",
        "\n",
        "  # Predict on the training set\n",
        "  train_predictions = knn.predict(X_train)\n",
        "\n",
        "  # Predict on the testing set\n",
        "  test_predictions = knn.predict(X_test)\n",
        "  # Calculate the accuracy on the training set\n",
        "  train_accuracy = accuracy_score(y_train, train_predictions)\n",
        "\n",
        "  # Calculate the accuracy on the testing set\n",
        "  test_accuracy = accuracy_score(y_test, test_predictions)\n",
        "\n",
        "  print(\"Training Accuracy:\", train_accuracy)\n",
        "  print(\"Testing Accuracy:\", test_accuracy)\n",
        "  train_accuracies.append(train_accuracy)\n",
        "  test_accuracies.append(test_accuracy)"
      ]
    },
    {
      "cell_type": "markdown",
      "metadata": {
        "id": "Wr5oMP19mB9b"
      },
      "source": []
    }
  ],
  "metadata": {
    "colab": {
      "machine_shape": "hm",
      "provenance": []
    },
    "gpuClass": "standard",
    "kernelspec": {
      "display_name": "Python 3",
      "name": "python3"
    },
    "language_info": {
      "name": "python"
    }
  },
  "nbformat": 4,
  "nbformat_minor": 0
}
